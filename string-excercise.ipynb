{
 "cells": [
  {
   "cell_type": "code",
   "execution_count": 1,
   "id": "e528313a-54e8-43a3-9dc6-e066f4645822",
   "metadata": {},
   "outputs": [
    {
     "data": {
      "text/plain": [
       "'lrig doog si ihturhs'"
      ]
     },
     "execution_count": 1,
     "metadata": {},
     "output_type": "execute_result"
    }
   ],
   "source": [
    "s='shruthi is good girl'\n",
    "s[::-1]"
   ]
  },
  {
   "cell_type": "code",
   "execution_count": 4,
   "id": "272ebd50-fd6d-4922-ac22-83b8e7b581b5",
   "metadata": {},
   "outputs": [
    {
     "data": {
      "text/plain": [
       "'girl good is shruthi'"
      ]
     },
     "execution_count": 4,
     "metadata": {},
     "output_type": "execute_result"
    }
   ],
   "source": [
    "s='shruthi is good girl'\n",
    "word=s.split()[::-1]\n",
    "l=[]\n",
    "for i in word:\n",
    "    l.append(i)\n",
    "\" \".join(l)"
   ]
  },
  {
   "cell_type": "code",
   "execution_count": null,
   "id": "b1aa4b0c-4e51-48c8-811c-7295384d5b69",
   "metadata": {},
   "outputs": [],
   "source": [
    "#python prog to find even len words in a string"
   ]
  },
  {
   "cell_type": "code",
   "execution_count": 29,
   "id": "5eff8dc9-20f8-4da1-a8f6-033d6d0ffa38",
   "metadata": {},
   "outputs": [
    {
     "name": "stdout",
     "output_type": "stream",
     "text": [
      "is\n",
      "good\n",
      "in\n",
      "naresh\n",
      "tech\n"
     ]
    }
   ],
   "source": [
    "s='shruthi is good in naresh tech'\n",
    "len(s)\n",
    "words=s.split()\n",
    "for i in words:\n",
    "    if len(i)%2==0:\n",
    "        print(i)"
   ]
  },
  {
   "cell_type": "code",
   "execution_count": 40,
   "id": "c0f79fc6-26d6-4cc6-bd76-6aa250b73053",
   "metadata": {},
   "outputs": [
    {
     "name": "stdout",
     "output_type": "stream",
     "text": [
      " wioejSJHieOOWJNFNMMK\n"
     ]
    }
   ],
   "source": [
    "l='wioejSJHieoowjnfnmmk'\n",
    "half=len(l)//2\n",
    "s1=' '\n",
    "for i in range(len(l)):\n",
    "    if i>=half:\n",
    "        s1=s1+l[i].upper()\n",
    "    else:\n",
    "        s1=s1+l[i]\n",
    "print(s1)"
   ]
  },
  {
   "cell_type": "code",
   "execution_count": 55,
   "id": "292799b6-a3fc-42ac-93fe-50448d86c3c6",
   "metadata": {},
   "outputs": [
    {
     "name": "stdout",
     "output_type": "stream",
     "text": [
      "Hello worlD\n"
     ]
    }
   ],
   "source": [
    "s='hello world'\n",
    "words=s.split()\n",
    "first=words[0].title()\n",
    "s1=s[6:]\n",
    "rev=s1[::-1]\n",
    "last=rev.title()\n",
    "revv=last[::-1]\n",
    "final_string=\" \".join([first, revv])\n",
    "print(final_string)"
   ]
  },
  {
   "cell_type": "code",
   "execution_count": null,
   "id": "5ddb0c63-30d5-465e-a9e1-8338e843c4f8",
   "metadata": {},
   "outputs": [],
   "source": [
    "#split and join the string"
   ]
  },
  {
   "cell_type": "code",
   "execution_count": 56,
   "id": "d074537a-8b56-419b-ab23-916fd5d79d19",
   "metadata": {},
   "outputs": [
    {
     "name": "stdout",
     "output_type": "stream",
     "text": [
      "['geeks', 'for', 'geeks', 'is', 'a', 'good', 'platform']\n",
      "geeks for geeks is a good platform\n"
     ]
    }
   ],
   "source": [
    "s=\"geeks for geeks is a good platform\"\n",
    "splitt=s.split()\n",
    "print(splitt)\n",
    "ss=\" \".join(splitt)\n",
    "print(ss)"
   ]
  },
  {
   "cell_type": "code",
   "execution_count": null,
   "id": "edbe2053-bdd1-450f-80fb-848c6ee6be3f",
   "metadata": {},
   "outputs": [],
   "source": [
    "s='0111 0011 0101011'\n",
    "p="
   ]
  },
  {
   "cell_type": "code",
   "execution_count": 58,
   "id": "cb9b4c68-82dc-4b4c-877d-bb831866ff17",
   "metadata": {},
   "outputs": [
    {
     "name": "stdout",
     "output_type": "stream",
     "text": [
      "4\n",
      "[20, 50, 40, 10]\n"
     ]
    }
   ],
   "source": [
    "l=[10,50,40,20]\n",
    "size=len(l)\n",
    "print(size)\n",
    "temp=l[0]\n",
    "l[0]=l[size-1]\n",
    "l[size-1]=temp\n",
    "print(l)"
   ]
  },
  {
   "cell_type": "code",
   "execution_count": 59,
   "id": "5eb26696-7b6b-4d80-ad28-6bdae97e0cc7",
   "metadata": {},
   "outputs": [
    {
     "name": "stdout",
     "output_type": "stream",
     "text": [
      "[20, 40, 50, 10]\n"
     ]
    }
   ],
   "source": [
    "l=[10,50,40,20]\n",
    "s=l[::-1]\n",
    "print(s)"
   ]
  },
  {
   "cell_type": "code",
   "execution_count": null,
   "id": "d6901952-2db8-4212-933f-895f175f7db7",
   "metadata": {},
   "outputs": [],
   "source": []
  }
 ],
 "metadata": {
  "kernelspec": {
   "display_name": "Python 3 (ipykernel)",
   "language": "python",
   "name": "python3"
  },
  "language_info": {
   "codemirror_mode": {
    "name": "ipython",
    "version": 3
   },
   "file_extension": ".py",
   "mimetype": "text/x-python",
   "name": "python",
   "nbconvert_exporter": "python",
   "pygments_lexer": "ipython3",
   "version": "3.12.4"
  }
 },
 "nbformat": 4,
 "nbformat_minor": 5
}
