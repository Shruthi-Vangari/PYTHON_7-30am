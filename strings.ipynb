{
 "cells": [
  {
   "cell_type": "code",
   "execution_count": null,
   "id": "2f0328c7-e6f0-4e77-92f4-20329f503f48",
   "metadata": {},
   "outputs": [],
   "source": [
    "#find count of a's in str1"
   ]
  },
  {
   "cell_type": "code",
   "execution_count": 1,
   "id": "dd32dd51-acd6-46a4-9778-ef840cd008b8",
   "metadata": {},
   "outputs": [
    {
     "name": "stdout",
     "output_type": "stream",
     "text": [
      "3\n"
     ]
    }
   ],
   "source": [
    "count=0\n",
    "str1=\"Hai naresh how are you\"\n",
    "for i in str1:\n",
    "    if i=='a':\n",
    "        count=count+1\n",
    "print(count)"
   ]
  },
  {
   "cell_type": "code",
   "execution_count": null,
   "id": "96240f4b-9936-41ec-a4a7-c5106cd040ff",
   "metadata": {},
   "outputs": [],
   "source": [
    "#find how many vowels are there in given string"
   ]
  },
  {
   "cell_type": "code",
   "execution_count": 8,
   "id": "2d09ffe4-01ff-4a8e-b547-31ba6eea3099",
   "metadata": {},
   "outputs": [
    {
     "name": "stdin",
     "output_type": "stream",
     "text": [
      "enter a string: qwertauioaoe\n"
     ]
    },
    {
     "name": "stdout",
     "output_type": "stream",
     "text": [
      "8\n"
     ]
    }
   ],
   "source": [
    "count=0\n",
    "str1=input(\"enter a string:\")\n",
    "for i in str1:\n",
    "    str2=\"aeiou\"\n",
    "    if i in str2:\n",
    "        count=count+1\n",
    "print(count)"
   ]
  },
  {
   "cell_type": "code",
   "execution_count": null,
   "id": "17e23a87-0f9f-445a-83db-527ac6459710",
   "metadata": {},
   "outputs": [],
   "source": [
    "#3.str1=\"Hai naresh how are you\"\n",
    "dont want repeated vowels\n",
    "count the vowels \n",
    "count the vowels avoid the repetition:unique vowels\n"
   ]
  },
  {
   "cell_type": "code",
   "execution_count": 29,
   "id": "01cb1197-ccf6-403f-a1bb-997525b91e35",
   "metadata": {},
   "outputs": [
    {
     "name": "stdout",
     "output_type": "stream",
     "text": [
      "aieou\n",
      "5\n"
     ]
    }
   ],
   "source": [
    "count=0\n",
    "str1=\"Hai naresh how are you\"\n",
    "str2=\"aeiou\"\n",
    "str3=''\n",
    "for i in str1:\n",
    "    if i not in str3:\n",
    "        if i in str2:\n",
    "            count=count+1\n",
    "            str3=str3+i\n",
    "print(str3)\n",
    "print(count)"
   ]
  },
  {
   "cell_type": "markdown",
   "id": "5d08ed53-156f-4568-898b-1a95f8bef293",
   "metadata": {},
   "source": [
    "**how to update the empty string**"
   ]
  },
  {
   "cell_type": "code",
   "execution_count": 27,
   "id": "af40a33e-7043-41e3-9f36-d578dde64849",
   "metadata": {},
   "outputs": [
    {
     "name": "stdout",
     "output_type": "stream",
     "text": [
      "python\n"
     ]
    }
   ],
   "source": [
    "s1='python'\n",
    "s2=''\n",
    "for i in s1:\n",
    "    s2=s2+i\n",
    "print(s2)"
   ]
  },
  {
   "cell_type": "markdown",
   "id": "1bce7f25-b077-4301-9c0f-b4464cc23dc7",
   "metadata": {},
   "source": [
    "- concatenation"
   ]
  },
  {
   "cell_type": "code",
   "execution_count": 33,
   "id": "74bc047d-9d5a-4052-92d5-dbb2148dfeaa",
   "metadata": {},
   "outputs": [
    {
     "data": {
      "text/plain": [
       "'hello shruthi'"
      ]
     },
     "execution_count": 33,
     "metadata": {},
     "output_type": "execute_result"
    }
   ],
   "source": [
    "h1=\"hello\"\n",
    "h2=\"shruthi\"\n",
    "h1+' '+h2"
   ]
  },
  {
   "cell_type": "code",
   "execution_count": 34,
   "id": "5a346864-e12f-4868-a14f-915e1e9c397c",
   "metadata": {},
   "outputs": [
    {
     "data": {
      "text/plain": [
       "'hello bye'"
      ]
     },
     "execution_count": 34,
     "metadata": {},
     "output_type": "execute_result"
    }
   ],
   "source": [
    "s1='hello '\n",
    "s2='bye'\n",
    "s1+s2"
   ]
  },
  {
   "cell_type": "code",
   "execution_count": 35,
   "id": "ffadd7fb-cf51-4df3-9da8-03621eb876c1",
   "metadata": {},
   "outputs": [
    {
     "data": {
      "text/plain": [
       "'hello bye'"
      ]
     },
     "execution_count": 35,
     "metadata": {},
     "output_type": "execute_result"
    }
   ],
   "source": [
    "s1='hello'\n",
    "s2=' bye'\n",
    "s1+s2"
   ]
  },
  {
   "cell_type": "code",
   "execution_count": 36,
   "id": "711b3a0b-04a3-4816-8a0f-b213f795aaa4",
   "metadata": {},
   "outputs": [
    {
     "data": {
      "text/plain": [
       "'hello  heeeiii'"
      ]
     },
     "execution_count": 36,
     "metadata": {},
     "output_type": "execute_result"
    }
   ],
   "source": [
    "s1='hello '\n",
    "s2=' '\n",
    "s3='heeeiii'\n",
    "s1+s2+s3"
   ]
  },
  {
   "cell_type": "code",
   "execution_count": 42,
   "id": "10493760-9af9-4bdd-b600-97c0c7b529e8",
   "metadata": {},
   "outputs": [
    {
     "ename": "TypeError",
     "evalue": "can't multiply sequence by non-int of type 'str'",
     "output_type": "error",
     "traceback": [
      "\u001b[1;31m---------------------------------------------------------------------------\u001b[0m",
      "\u001b[1;31mTypeError\u001b[0m                                 Traceback (most recent call last)",
      "Cell \u001b[1;32mIn[42], line 3\u001b[0m\n\u001b[0;32m      1\u001b[0m s1\u001b[38;5;241m=\u001b[39m\u001b[38;5;124m'\u001b[39m\u001b[38;5;124mhello\u001b[39m\u001b[38;5;124m'\u001b[39m\n\u001b[0;32m      2\u001b[0m s2\u001b[38;5;241m=\u001b[39m\u001b[38;5;124m'\u001b[39m\u001b[38;5;124mshruthi\u001b[39m\u001b[38;5;124m'\u001b[39m\n\u001b[1;32m----> 3\u001b[0m s1\u001b[38;5;241m*\u001b[39ms2\n\u001b[0;32m      4\u001b[0m s1\u001b[38;5;241m/\u001b[39ms2\n\u001b[0;32m      5\u001b[0m s1\u001b[38;5;241m-\u001b[39ms2\n",
      "\u001b[1;31mTypeError\u001b[0m: can't multiply sequence by non-int of type 'str'"
     ]
    }
   ],
   "source": [
    "s1='hello'\n",
    "s2='shruthi'\n",
    "s1*s2"
   ]
  },
  {
   "cell_type": "code",
   "execution_count": 43,
   "id": "9ca82005-470e-4741-8806-2ca8e61fd27b",
   "metadata": {},
   "outputs": [
    {
     "ename": "TypeError",
     "evalue": "unsupported operand type(s) for /: 'str' and 'str'",
     "output_type": "error",
     "traceback": [
      "\u001b[1;31m---------------------------------------------------------------------------\u001b[0m",
      "\u001b[1;31mTypeError\u001b[0m                                 Traceback (most recent call last)",
      "Cell \u001b[1;32mIn[43], line 3\u001b[0m\n\u001b[0;32m      1\u001b[0m s1\u001b[38;5;241m=\u001b[39m\u001b[38;5;124m'\u001b[39m\u001b[38;5;124mhello\u001b[39m\u001b[38;5;124m'\u001b[39m\n\u001b[0;32m      2\u001b[0m s2\u001b[38;5;241m=\u001b[39m\u001b[38;5;124m'\u001b[39m\u001b[38;5;124mshruthi\u001b[39m\u001b[38;5;124m'\u001b[39m\n\u001b[1;32m----> 3\u001b[0m s1\u001b[38;5;241m/\u001b[39ms2\n",
      "\u001b[1;31mTypeError\u001b[0m: unsupported operand type(s) for /: 'str' and 'str'"
     ]
    }
   ],
   "source": [
    "s1='hello'\n",
    "s2='shruthi'\n",
    "s1/s2"
   ]
  },
  {
   "cell_type": "code",
   "execution_count": 44,
   "id": "09009731-8e02-43ce-b246-611338d62f10",
   "metadata": {},
   "outputs": [
    {
     "ename": "TypeError",
     "evalue": "unsupported operand type(s) for -: 'str' and 'str'",
     "output_type": "error",
     "traceback": [
      "\u001b[1;31m---------------------------------------------------------------------------\u001b[0m",
      "\u001b[1;31mTypeError\u001b[0m                                 Traceback (most recent call last)",
      "Cell \u001b[1;32mIn[44], line 3\u001b[0m\n\u001b[0;32m      1\u001b[0m s1\u001b[38;5;241m=\u001b[39m\u001b[38;5;124m'\u001b[39m\u001b[38;5;124mhello\u001b[39m\u001b[38;5;124m'\u001b[39m\n\u001b[0;32m      2\u001b[0m s2\u001b[38;5;241m=\u001b[39m\u001b[38;5;124m'\u001b[39m\u001b[38;5;124mshruthi\u001b[39m\u001b[38;5;124m'\u001b[39m\n\u001b[1;32m----> 3\u001b[0m s1\u001b[38;5;241m-\u001b[39ms2\n",
      "\u001b[1;31mTypeError\u001b[0m: unsupported operand type(s) for -: 'str' and 'str'"
     ]
    }
   ],
   "source": [
    "s1='hello'\n",
    "s2='shruthi'\n",
    "s1-s2"
   ]
  },
  {
   "cell_type": "code",
   "execution_count": 47,
   "id": "5e826199-ce31-4ba8-b05c-01c546f17e87",
   "metadata": {},
   "outputs": [
    {
     "data": {
      "text/plain": [
       "'hellohello'"
      ]
     },
     "execution_count": 47,
     "metadata": {},
     "output_type": "execute_result"
    }
   ],
   "source": [
    "s1='hello'\n",
    "s2=2\n",
    "s1*2"
   ]
  },
  {
   "cell_type": "markdown",
   "id": "9e90c199-c2e4-4f66-8902-b9677f2ee65a",
   "metadata": {},
   "source": [
    "- **index**"
   ]
  },
  {
   "cell_type": "code",
   "execution_count": 51,
   "id": "ee6d9bf7-71c3-4d0d-be00-408aa42414d4",
   "metadata": {},
   "outputs": [
    {
     "name": "stdout",
     "output_type": "stream",
     "text": [
      "p\n",
      "n\n"
     ]
    }
   ],
   "source": [
    "s1='python'\n",
    "print(s1[0])\n",
    "print(s1[-1])"
   ]
  },
  {
   "cell_type": "code",
   "execution_count": 57,
   "id": "ba81a072-cd23-4079-81df-1db6c643b620",
   "metadata": {},
   "outputs": [
    {
     "data": {
      "text/plain": [
       "'t'"
      ]
     },
     "execution_count": 57,
     "metadata": {},
     "output_type": "execute_result"
    }
   ],
   "source": [
    "s1[-4]"
   ]
  },
  {
   "cell_type": "code",
   "execution_count": 58,
   "id": "85b36767-709f-4b0f-a3a8-8e2781fddc29",
   "metadata": {},
   "outputs": [
    {
     "data": {
      "text/plain": [
       "'y'"
      ]
     },
     "execution_count": 58,
     "metadata": {},
     "output_type": "execute_result"
    }
   ],
   "source": [
    "s1[-5]"
   ]
  },
  {
   "cell_type": "code",
   "execution_count": 53,
   "id": "7b512c00-4661-4ebd-aea3-16a9b8d6886d",
   "metadata": {},
   "outputs": [
    {
     "data": {
      "text/plain": [
       "'python'"
      ]
     },
     "execution_count": 53,
     "metadata": {},
     "output_type": "execute_result"
    }
   ],
   "source": [
    "s1[::]"
   ]
  },
  {
   "cell_type": "code",
   "execution_count": 59,
   "id": "8977b70a-140b-4948-8cc4-a2e0c5be4296",
   "metadata": {},
   "outputs": [
    {
     "ename": "IndexError",
     "evalue": "string index out of range",
     "output_type": "error",
     "traceback": [
      "\u001b[1;31m---------------------------------------------------------------------------\u001b[0m",
      "\u001b[1;31mIndexError\u001b[0m                                Traceback (most recent call last)",
      "Cell \u001b[1;32mIn[59], line 1\u001b[0m\n\u001b[1;32m----> 1\u001b[0m s1[\u001b[38;5;241m-\u001b[39m\u001b[38;5;241m7\u001b[39m]\n",
      "\u001b[1;31mIndexError\u001b[0m: string index out of range"
     ]
    }
   ],
   "source": [
    "s1[-7]"
   ]
  },
  {
   "cell_type": "code",
   "execution_count": 54,
   "id": "e4b1e961-9ce6-4f84-87e2-ba0b820987c6",
   "metadata": {},
   "outputs": [
    {
     "data": {
      "text/plain": [
       "'ytho'"
      ]
     },
     "execution_count": 54,
     "metadata": {},
     "output_type": "execute_result"
    }
   ],
   "source": [
    "s1[1:-1]"
   ]
  },
  {
   "cell_type": "code",
   "execution_count": 55,
   "id": "20d20929-feb6-4321-b989-dd86b90dc2dc",
   "metadata": {},
   "outputs": [
    {
     "data": {
      "text/plain": [
       "'pytho'"
      ]
     },
     "execution_count": 55,
     "metadata": {},
     "output_type": "execute_result"
    }
   ],
   "source": [
    "s1[:-1]"
   ]
  },
  {
   "cell_type": "code",
   "execution_count": 56,
   "id": "bf79cafe-33b8-4fc2-b149-bde7327f88b8",
   "metadata": {},
   "outputs": [
    {
     "data": {
      "text/plain": [
       "'nohtyp'"
      ]
     },
     "execution_count": 56,
     "metadata": {},
     "output_type": "execute_result"
    }
   ],
   "source": [
    "s1[::-1]"
   ]
  },
  {
   "cell_type": "code",
   "execution_count": null,
   "id": "66a4337a-4168-4d4c-af6e-ce13dd1c0604",
   "metadata": {},
   "outputs": [],
   "source": []
  }
 ],
 "metadata": {
  "kernelspec": {
   "display_name": "Python 3 (ipykernel)",
   "language": "python",
   "name": "python3"
  },
  "language_info": {
   "codemirror_mode": {
    "name": "ipython",
    "version": 3
   },
   "file_extension": ".py",
   "mimetype": "text/x-python",
   "name": "python",
   "nbconvert_exporter": "python",
   "pygments_lexer": "ipython3",
   "version": "3.12.4"
  }
 },
 "nbformat": 4,
 "nbformat_minor": 5
}
